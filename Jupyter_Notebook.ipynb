{
  "cells": [
    {
      "cell_type": "markdown",
      "metadata": {
        "id": "Zi0CRsRuJ8D3"
      },
      "source": [
        "<center>\n",
        "    <img src=\"https://cf-courses-data.s3.us.cloud-object-storage.appdomain.cloud/IBMDeveloperSkillsNetwork-DS0105EN-SkillsNetwork/labs/Module2/images/SN_web_lightmode.png\" width=\"300\" alt=\"cognitiveclass.ai logo\">\n",
        "</center>\n"
      ]
    },
    {
      "cell_type": "markdown",
      "metadata": {
        "id": "GWut4q00J8D7"
      },
      "source": [
        "#### Add your code below following the instructions given in the course\n"
      ]
    },
    {
      "cell_type": "markdown",
      "source": [
        "# My Jupyter Notebook on IBM Watson Studio\n",
        "\n",
        "(Create a markdown cell with the title of the notebook. (1 pt))"
      ],
      "metadata": {
        "id": "FreUzsJSKK0U"
      }
    },
    {
      "cell_type": "markdown",
      "source": [
        "\n",
        "(Create a markdown cell for an introduction. (1 pt))\n",
        "\n",
        "This is a notebook for final assignment showing markdown and code cells"
      ],
      "metadata": {
        "id": "8tTXlk2dKnt3"
      }
    },
    {
      "cell_type": "markdown",
      "source": [],
      "metadata": {
        "id": "DX3UYLE0K62q"
      }
    },
    {
      "cell_type": "markdown",
      "source": [
        "(Create a markdown cell to list data science languages. (3 pts))\n",
        "This cell creates a ordered list of data science languages \n",
        "\n",
        "1. Python\n",
        "2. R\n",
        "3. SQL"
      ],
      "metadata": {
        "id": "w33e3n47Ky5W"
      }
    },
    {
      "cell_type": "markdown",
      "source": [
        "(Create a markdown cell to list data science libraries. (3 pts))\n",
        "This cell creates an unordered list of some data science libraries\n",
        "\n",
        "- scikit learn\n",
        "- numpy\n",
        "- pandas\n",
        "- scipy"
      ],
      "metadata": {
        "id": "MMXvWibyK98J"
      }
    },
    {
      "cell_type": "markdown",
      "source": [
        "(Create a markdown cell with a table of Data Science tools. (3 pts))\n",
        "\n",
        "This cell creates a table of some data science tools\n",
        "\n",
        "| Tool | Owner |\n",
        "| ----------- | ----------- |\n",
        "| Watson Studio | IBM |\n",
        "| Data Refinery | IBM |\n",
        "| SPSS Statistics | IBM |"
      ],
      "metadata": {
        "id": "J-XeaG2ULFUi"
      }
    },
    {
      "cell_type": "markdown",
      "source": [
        "(Create a markdown cell introducing arithmetic expression examples. (1 pt))\n",
        "\n",
        "It is easy to perform math operations in jupyter. The next cells will perform adition and multiplication \n",
        "the adition is performed using a + signal\n",
        "while multiplication uses a * sign (see code below"
      ],
      "metadata": {
        "id": "9sgZDDDPLSMQ"
      }
    },
    {
      "cell_type": "markdown",
      "source": [
        "Create a code cell to multiply and add numbers.(2 pts)"
      ],
      "metadata": {
        "id": "uymmhMlrLtUc"
      }
    },
    {
      "cell_type": "code",
      "source": [
        "#this code inputs 3 numbers,  add the first two and multiplies by the third \n",
        "a1=1\n",
        "a2=2\n",
        "m1=3\n",
        "result=(a1+a2)*3\n",
        "result"
      ],
      "metadata": {
        "colab": {
          "base_uri": "https://localhost:8080/"
        },
        "id": "OMzT2jxJK6Xd",
        "outputId": "fcdc6f46-0f8b-4610-ed82-49c50cade740"
      },
      "execution_count": 1,
      "outputs": [
        {
          "output_type": "execute_result",
          "data": {
            "text/plain": [
              "9"
            ]
          },
          "metadata": {},
          "execution_count": 1
        }
      ]
    },
    {
      "cell_type": "markdown",
      "source": [
        "Create a code cell to convert minutes to hours. (2 pts)"
      ],
      "metadata": {
        "id": "x9rHSCW5MR28"
      }
    },
    {
      "cell_type": "code",
      "source": [
        "#this code inputs a number of minutes numbers, m and converts it to the corresponding number of hours (h)\n",
        "m=30\n",
        "h=m/60\n",
        "h"
      ],
      "metadata": {
        "colab": {
          "base_uri": "https://localhost:8080/"
        },
        "id": "xZaG6mctKMoZ",
        "outputId": "36b33850-9335-42d1-ab4e-7c5744a3c72b"
      },
      "execution_count": 2,
      "outputs": [
        {
          "output_type": "execute_result",
          "data": {
            "text/plain": [
              "0.5"
            ]
          },
          "metadata": {},
          "execution_count": 2
        }
      ]
    },
    {
      "cell_type": "markdown",
      "source": [
        "Insert a markdown cell to list Objectives. "
      ],
      "metadata": {
        "id": "wF7YVcmJMo5w"
      }
    },
    {
      "cell_type": "markdown",
      "source": [
        "- Create a markdown cell with the title of the notebook. (1 pt)\n",
        "- Create a markdown cell for an introduction. (1 pt)\n",
        "- Create a markdown cell to list data science languages. (3 pts)\n",
        "- Create a markdown cell to list data science libraries. (3 pts)\n",
        "- Create a markdown cell with a table of Data Science tools. (3 pts)\n",
        "- Create a markdown cell introducing arithmetic expression examples. (1 pt)\n",
        "- Create a code cell to multiply and add numbers.(2 pts)\n",
        "- Create a code cell to convert minutes to hours. (2 pts)\n",
        "- Insert a markdown cell to list Objectives. (3 pts)\n",
        "- Create a markdown cell to indicate the Author’s name. (2 pts)\n",
        "- Share your notebook through GitHub (3 pts)\n",
        "- Take a screenshot of the first page of the notebook. (1 pt)"
      ],
      "metadata": {
        "id": "lnz1s_JGNQn9"
      }
    },
    {
      "cell_type": "markdown",
      "source": [
        "## Leonardo Pessoa \n",
        "\n",
        "author"
      ],
      "metadata": {
        "id": "4N4cYjBZNazK"
      }
    }
  ],
  "metadata": {
    "kernelspec": {
      "display_name": "Python",
      "language": "python",
      "name": "conda-env-python-py"
    },
    "language_info": {
      "name": ""
    },
    "colab": {
      "provenance": []
    }
  },
  "nbformat": 4,
  "nbformat_minor": 0
}