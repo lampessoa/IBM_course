{
  "cells": [
    {
      "cell_type": "markdown",
      "metadata": {
        "id": "Zi0CRsRuJ8D3"
      },
      "source": [
        "<center>\n",
        "    <img src=\"https://cf-courses-data.s3.us.cloud-object-storage.appdomain.cloud/IBMDeveloperSkillsNetwork-DS0105EN-SkillsNetwork/labs/Module2/images/SN_web_lightmode.png\" width=\"300\" alt=\"cognitiveclass.ai logo\">\n",
        "</center>\n"
      ]
    },
    {
      "cell_type": "markdown",
      "metadata": {
        "id": "GWut4q00J8D7"
      },
      "source": [
        "#### Add your code below following the instructions given in the course\n"
      ]
    },
    {
      "cell_type": "markdown",
      "source": [
        "# My Jupyter Notebook on IBM Watson Studio\n",
        "\n",
        "Create a markdown cell with the title of the notebook. (1 pt)"
      ],
      "metadata": {
        "id": "FreUzsJSKK0U"
      }
    },
    {
      "cell_type": "markdown",
      "source": [
        "*Leonardo Pessoa* \n",
        "\n",
        "Analyst"
      ],
      "metadata": {
        "id": "tQXfv6-PKdjI"
      }
    },
    {
      "cell_type": "markdown",
      "source": [
        "I am interested in data science because it is the future!\n",
        "\n",
        "Create a markdown cell for an introduction. (1 pt)"
      ],
      "metadata": {
        "id": "8tTXlk2dKnt3"
      }
    },
    {
      "cell_type": "markdown",
      "source": [],
      "metadata": {
        "id": "DX3UYLE0K62q"
      }
    },
    {
      "cell_type": "markdown",
      "source": [
        "Create a markdown cell to list data science languages. (3 pts)\n",
        "\n",
        "1. Python\n",
        "2. R\n",
        "3. SQL"
      ],
      "metadata": {
        "id": "w33e3n47Ky5W"
      }
    },
    {
      "cell_type": "markdown",
      "source": [
        "Create a markdown cell to list data science libraries. (3 pts)\n",
        "\n",
        "- scikit learn\n",
        "- numpy\n",
        "- pandas\n",
        "- scipy"
      ],
      "metadata": {
        "id": "MMXvWibyK98J"
      }
    },
    {
      "cell_type": "markdown",
      "source": [
        "Create a markdown cell with a table of Data Science tools. (3 pts)\n",
        "\n",
        "| Tool | Owner |\n",
        "| ----------- | ----------- |\n",
        "| Watson Studio | IBM |\n",
        "| Data Refinery | IBM |\n",
        "| SPSS Statistics | IBM |"
      ],
      "metadata": {
        "id": "J-XeaG2ULFUi"
      }
    },
    {
      "cell_type": "markdown",
      "source": [
        "Create a markdown cell introducing arithmetic expression examples. (1 pt)\n",
        "\n",
        "It is easy to perform math operations in jupyter. The next cells will perform adition and multiplication "
      ],
      "metadata": {
        "id": "9sgZDDDPLSMQ"
      }
    },
    {
      "cell_type": "markdown",
      "source": [
        "Create a code cell to multiply and add numbers.(2 pts)"
      ],
      "metadata": {
        "id": "uymmhMlrLtUc"
      }
    },
    {
      "cell_type": "code",
      "source": [
        "a1=1\n",
        "a2=2\n",
        "m1=3\n",
        "result=(a1+a2)*3\n",
        "result"
      ],
      "metadata": {
        "colab": {
          "base_uri": "https://localhost:8080/"
        },
        "id": "OMzT2jxJK6Xd",
        "outputId": "4a75f89e-fbb1-4d6b-a561-e618605b0b7d"
      },
      "execution_count": 3,
      "outputs": [
        {
          "output_type": "execute_result",
          "data": {
            "text/plain": [
              "9"
            ]
          },
          "metadata": {},
          "execution_count": 3
        }
      ]
    },
    {
      "cell_type": "markdown",
      "source": [
        "Create a code cell to convert minutes to hours. (2 pts)"
      ],
      "metadata": {
        "id": "x9rHSCW5MR28"
      }
    },
    {
      "cell_type": "code",
      "source": [
        "m=30\n",
        "h=m/60\n",
        "h"
      ],
      "metadata": {
        "colab": {
          "base_uri": "https://localhost:8080/"
        },
        "id": "xZaG6mctKMoZ",
        "outputId": "9346588f-8ffe-4aa1-d406-185ba57bcf73"
      },
      "execution_count": 5,
      "outputs": [
        {
          "output_type": "execute_result",
          "data": {
            "text/plain": [
              "0.5"
            ]
          },
          "metadata": {},
          "execution_count": 5
        }
      ]
    },
    {
      "cell_type": "markdown",
      "source": [
        "Insert a markdown cell to list Objectives. "
      ],
      "metadata": {
        "id": "wF7YVcmJMo5w"
      }
    },
    {
      "cell_type": "markdown",
      "source": [
        "- Create a markdown cell with the title of the notebook. (1 pt)\n",
        "- Create a markdown cell for an introduction. (1 pt)\n",
        "- Create a markdown cell to list data science languages. (3 pts)\n",
        "- Create a markdown cell to list data science libraries. (3 pts)\n",
        "- Create a markdown cell with a table of Data Science tools. (3 pts)\n",
        "- Create a markdown cell introducing arithmetic expression examples. (1 pt)\n",
        "- Create a code cell to multiply and add numbers.(2 pts)\n",
        "- Create a code cell to convert minutes to hours. (2 pts)\n",
        "- Insert a markdown cell to list Objectives. (3 pts)\n",
        "- Create a markdown cell to indicate the Author’s name. (2 pts)\n",
        "- Share your notebook through GitHub (3 pts)\n",
        "- Take a screenshot of the first page of the notebook. (1 pt)"
      ],
      "metadata": {
        "id": "lnz1s_JGNQn9"
      }
    },
    {
      "cell_type": "markdown",
      "source": [
        "*Leonardo Pessoa* \n",
        "\n",
        "Analyst"
      ],
      "metadata": {
        "id": "4N4cYjBZNazK"
      }
    }
  ],
  "metadata": {
    "kernelspec": {
      "display_name": "Python",
      "language": "python",
      "name": "conda-env-python-py"
    },
    "language_info": {
      "name": ""
    },
    "colab": {
      "provenance": []
    }
  },
  "nbformat": 4,
  "nbformat_minor": 0
}